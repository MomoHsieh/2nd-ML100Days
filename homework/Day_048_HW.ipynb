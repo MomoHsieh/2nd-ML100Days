{
 "cells": [
  {
   "cell_type": "code",
   "execution_count": 34,
   "metadata": {},
   "outputs": [],
   "source": [
    "import numpy as np # linear algebra\n",
    "import pandas as pd # data processing, CSV file I/O (e.g. pd.read_csv)\n",
    "import os\n",
    "\n",
    "# Any results you write to the current directory are saved as output.\n",
    "train = pd.read_csv(\"data/train.csv\", header=None)\n",
    "test = pd.read_csv(\"data/test.csv\", header=None)\n",
    "train_labels = pd.read_csv(\"data/trainLabels.csv\", header=None)"
   ]
  },
  {
   "cell_type": "code",
   "execution_count": 35,
   "metadata": {},
   "outputs": [
    {
     "data": {
      "text/plain": [
       "(1000, 40)"
      ]
     },
     "execution_count": 35,
     "metadata": {},
     "output_type": "execute_result"
    }
   ],
   "source": [
    "train.shape"
   ]
  },
  {
   "cell_type": "code",
   "execution_count": 36,
   "metadata": {},
   "outputs": [],
   "source": [
    "y = train_labels"
   ]
  },
  {
   "cell_type": "code",
   "execution_count": 37,
   "metadata": {},
   "outputs": [],
   "source": [
    "X = train"
   ]
  },
  {
   "cell_type": "code",
   "execution_count": 39,
   "metadata": {},
   "outputs": [
    {
     "name": "stderr",
     "output_type": "stream",
     "text": [
      "Using TensorFlow backend.\n"
     ]
    },
    {
     "name": "stdout",
     "output_type": "stream",
     "text": [
      "WARNING:tensorflow:From /home/momo/anaconda3/lib/python3.7/site-packages/tensorflow/python/framework/op_def_library.py:263: colocate_with (from tensorflow.python.framework.ops) is deprecated and will be removed in a future version.\n",
      "Instructions for updating:\n",
      "Colocations handled automatically by placer.\n"
     ]
    },
    {
     "name": "stderr",
     "output_type": "stream",
     "text": [
      "/home/momo/anaconda3/lib/python3.7/site-packages/ipykernel_launcher.py:10: UserWarning: Update your `Dense` call to the Keras 2 API: `Dense(activation=\"relu\", input_dim=40, units=128, kernel_initializer=\"uniform\")`\n",
      "  # Remove the CWD from sys.path while we load stuff.\n",
      "/home/momo/anaconda3/lib/python3.7/site-packages/ipykernel_launcher.py:12: UserWarning: Update your `Dense` call to the Keras 2 API: `Dense(activation=\"relu\", units=64, kernel_initializer=\"uniform\")`\n",
      "  if sys.path[0] == '':\n",
      "/home/momo/anaconda3/lib/python3.7/site-packages/ipykernel_launcher.py:14: UserWarning: Update your `Dense` call to the Keras 2 API: `Dense(activation=\"sigmoid\", units=1, kernel_initializer=\"uniform\")`\n",
      "  \n"
     ]
    }
   ],
   "source": [
    "# Importing the Keras libraries and packages\n",
    "import keras\n",
    "from keras.models import Sequential\n",
    "from keras.layers import Dense\n",
    "\n",
    "#Initializing Neural Network\n",
    "classifier = Sequential()\n",
    "\n",
    "# Adding the input layer and the first hidden layer\n",
    "classifier.add(Dense(output_dim = 128, init = 'uniform', activation = 'relu', input_dim = 40))\n",
    "# Adding the second hidden layer\n",
    "classifier.add(Dense(output_dim = 64, init = 'uniform', activation = 'relu'))\n",
    "# Adding the output layer\n",
    "classifier.add(Dense(output_dim = 1, init = 'uniform', activation = 'sigmoid'))\n",
    "\n",
    "# Compiling Neural Network\n",
    "classifier.compile(optimizer = 'adam', loss = 'binary_crossentropy', metrics = ['accuracy'])"
   ]
  },
  {
   "cell_type": "code",
   "execution_count": 41,
   "metadata": {},
   "outputs": [
    {
     "name": "stdout",
     "output_type": "stream",
     "text": [
      "Epoch 1/100\n",
      " 760/1000 [=====================>........] - ETA: 0s - loss: 1.1108e-07 - acc: 1.0000"
     ]
    },
    {
     "name": "stderr",
     "output_type": "stream",
     "text": [
      "/home/momo/anaconda3/lib/python3.7/site-packages/ipykernel_launcher.py:2: UserWarning: The `nb_epoch` argument in `fit` has been renamed `epochs`.\n",
      "  \n"
     ]
    },
    {
     "name": "stdout",
     "output_type": "stream",
     "text": [
      "1000/1000 [==============================] - 0s 233us/step - loss: 1.1107e-07 - acc: 1.0000\n",
      "Epoch 2/100\n",
      "1000/1000 [==============================] - 0s 219us/step - loss: 1.1119e-07 - acc: 1.0000\n",
      "Epoch 3/100\n",
      "1000/1000 [==============================] - 0s 209us/step - loss: 1.1088e-07 - acc: 1.0000\n",
      "Epoch 4/100\n",
      "1000/1000 [==============================] - 0s 166us/step - loss: 1.1125e-07 - acc: 1.0000\n",
      "Epoch 5/100\n",
      "1000/1000 [==============================] - 0s 190us/step - loss: 1.1104e-07 - acc: 1.0000\n",
      "Epoch 6/100\n",
      "1000/1000 [==============================] - 0s 230us/step - loss: 1.1046e-07 - acc: 1.0000\n",
      "Epoch 7/100\n",
      "1000/1000 [==============================] - 0s 238us/step - loss: 1.1055e-07 - acc: 1.0000\n",
      "Epoch 8/100\n",
      "1000/1000 [==============================] - 0s 249us/step - loss: 1.1061e-07 - acc: 1.0000\n",
      "Epoch 9/100\n",
      "1000/1000 [==============================] - 0s 236us/step - loss: 1.1073e-07 - acc: 1.0000\n",
      "Epoch 10/100\n",
      "1000/1000 [==============================] - 0s 218us/step - loss: 1.1039e-07 - acc: 1.0000\n",
      "Epoch 11/100\n",
      "1000/1000 [==============================] - 0s 203us/step - loss: 1.1080e-07 - acc: 1.0000\n",
      "Epoch 12/100\n",
      "1000/1000 [==============================] - 0s 239us/step - loss: 1.1034e-07 - acc: 1.0000\n",
      "Epoch 13/100\n",
      "1000/1000 [==============================] - 0s 220us/step - loss: 1.1050e-07 - acc: 1.0000\n",
      "Epoch 14/100\n",
      "1000/1000 [==============================] - 0s 224us/step - loss: 1.1064e-07 - acc: 1.0000\n",
      "Epoch 15/100\n",
      "1000/1000 [==============================] - 0s 244us/step - loss: 1.1036e-07 - acc: 1.0000\n",
      "Epoch 16/100\n",
      "1000/1000 [==============================] - 0s 205us/step - loss: 1.1048e-07 - acc: 1.0000\n",
      "Epoch 17/100\n",
      "1000/1000 [==============================] - 0s 214us/step - loss: 1.1007e-07 - acc: 1.0000\n",
      "Epoch 18/100\n",
      "1000/1000 [==============================] - 0s 295us/step - loss: 1.1007e-07 - acc: 1.0000\n",
      "Epoch 19/100\n",
      "1000/1000 [==============================] - 0s 176us/step - loss: 1.1043e-07 - acc: 1.0000\n",
      "Epoch 20/100\n",
      "1000/1000 [==============================] - 0s 186us/step - loss: 1.1018e-07 - acc: 1.0000\n",
      "Epoch 21/100\n",
      "1000/1000 [==============================] - 0s 244us/step - loss: 1.1011e-07 - acc: 1.0000\n",
      "Epoch 22/100\n",
      "1000/1000 [==============================] - 0s 207us/step - loss: 1.0997e-07 - acc: 1.0000\n",
      "Epoch 23/100\n",
      "1000/1000 [==============================] - 0s 232us/step - loss: 1.1049e-07 - acc: 1.0000\n",
      "Epoch 24/100\n",
      "1000/1000 [==============================] - 0s 204us/step - loss: 1.1011e-07 - acc: 1.0000\n",
      "Epoch 25/100\n",
      "1000/1000 [==============================] - 0s 212us/step - loss: 1.1008e-07 - acc: 1.0000\n",
      "Epoch 26/100\n",
      "1000/1000 [==============================] - 0s 258us/step - loss: 1.1020e-07 - acc: 1.0000\n",
      "Epoch 27/100\n",
      "1000/1000 [==============================] - 0s 236us/step - loss: 1.1004e-07 - acc: 1.0000\n",
      "Epoch 28/100\n",
      "1000/1000 [==============================] - 0s 291us/step - loss: 1.1004e-07 - acc: 1.0000\n",
      "Epoch 29/100\n",
      "1000/1000 [==============================] - 0s 201us/step - loss: 1.0989e-07 - acc: 1.0000\n",
      "Epoch 30/100\n",
      "1000/1000 [==============================] - 0s 254us/step - loss: 1.1032e-07 - acc: 1.0000\n",
      "Epoch 31/100\n",
      "1000/1000 [==============================] - 0s 249us/step - loss: 1.1008e-07 - acc: 1.0000\n",
      "Epoch 32/100\n",
      "1000/1000 [==============================] - 0s 244us/step - loss: 1.1016e-07 - acc: 1.0000\n",
      "Epoch 33/100\n",
      "1000/1000 [==============================] - 0s 231us/step - loss: 1.1009e-07 - acc: 1.0000\n",
      "Epoch 34/100\n",
      "1000/1000 [==============================] - 0s 249us/step - loss: 1.1002e-07 - acc: 1.0000\n",
      "Epoch 35/100\n",
      "1000/1000 [==============================] - 0s 181us/step - loss: 1.0995e-07 - acc: 1.0000\n",
      "Epoch 36/100\n",
      "1000/1000 [==============================] - 0s 183us/step - loss: 1.1000e-07 - acc: 1.0000\n",
      "Epoch 37/100\n",
      "1000/1000 [==============================] - 0s 243us/step - loss: 1.1002e-07 - acc: 1.0000\n",
      "Epoch 38/100\n",
      "1000/1000 [==============================] - 0s 235us/step - loss: 1.0992e-07 - acc: 1.0000\n",
      "Epoch 39/100\n",
      "1000/1000 [==============================] - 0s 271us/step - loss: 1.1002e-07 - acc: 1.0000\n",
      "Epoch 40/100\n",
      "1000/1000 [==============================] - 0s 255us/step - loss: 1.0990e-07 - acc: 1.0000\n",
      "Epoch 41/100\n",
      "1000/1000 [==============================] - 0s 272us/step - loss: 1.0996e-07 - acc: 1.0000\n",
      "Epoch 42/100\n",
      "1000/1000 [==============================] - 0s 210us/step - loss: 1.0990e-07 - acc: 1.0000\n",
      "Epoch 43/100\n",
      "1000/1000 [==============================] - 0s 254us/step - loss: 1.0990e-07 - acc: 1.0000\n",
      "Epoch 44/100\n",
      "1000/1000 [==============================] - 0s 262us/step - loss: 1.0987e-07 - acc: 1.0000\n",
      "Epoch 45/100\n",
      "1000/1000 [==============================] - 0s 226us/step - loss: 1.0996e-07 - acc: 1.0000\n",
      "Epoch 46/100\n",
      "1000/1000 [==============================] - 0s 252us/step - loss: 1.0990e-07 - acc: 1.0000\n",
      "Epoch 47/100\n",
      "1000/1000 [==============================] - 0s 208us/step - loss: 1.0990e-07 - acc: 1.0000\n",
      "Epoch 48/100\n",
      "1000/1000 [==============================] - 0s 197us/step - loss: 1.0991e-07 - acc: 1.0000\n",
      "Epoch 49/100\n",
      "1000/1000 [==============================] - 0s 216us/step - loss: 1.0995e-07 - acc: 1.0000\n",
      "Epoch 50/100\n",
      "1000/1000 [==============================] - 0s 267us/step - loss: 1.1003e-07 - acc: 1.0000\n",
      "Epoch 51/100\n",
      "1000/1000 [==============================] - 0s 472us/step - loss: 1.0982e-07 - acc: 1.0000\n",
      "Epoch 52/100\n",
      "1000/1000 [==============================] - 0s 272us/step - loss: 1.0990e-07 - acc: 1.0000\n",
      "Epoch 53/100\n",
      "1000/1000 [==============================] - 0s 439us/step - loss: 1.0984e-07 - acc: 1.0000\n",
      "Epoch 54/100\n",
      "1000/1000 [==============================] - 0s 293us/step - loss: 1.1004e-07 - acc: 1.0000\n",
      "Epoch 55/100\n",
      "1000/1000 [==============================] - 0s 233us/step - loss: 1.0993e-07 - acc: 1.0000\n",
      "Epoch 56/100\n",
      "1000/1000 [==============================] - 0s 221us/step - loss: 1.0984e-07 - acc: 1.0000\n",
      "Epoch 57/100\n",
      "1000/1000 [==============================] - 0s 306us/step - loss: 1.0991e-07 - acc: 1.0000\n",
      "Epoch 58/100\n",
      "1000/1000 [==============================] - 0s 435us/step - loss: 1.0989e-07 - acc: 1.0000\n",
      "Epoch 59/100\n",
      "1000/1000 [==============================] - 0s 319us/step - loss: 1.0993e-07 - acc: 1.0000\n",
      "Epoch 60/100\n",
      "1000/1000 [==============================] - 0s 304us/step - loss: 1.0986e-07 - acc: 1.0000\n",
      "Epoch 61/100\n",
      "1000/1000 [==============================] - 0s 228us/step - loss: 1.0985e-07 - acc: 1.0000\n",
      "Epoch 62/100\n",
      "1000/1000 [==============================] - 0s 175us/step - loss: 1.0988e-07 - acc: 1.0000\n",
      "Epoch 63/100\n",
      "1000/1000 [==============================] - 0s 388us/step - loss: 1.0985e-07 - acc: 1.0000\n",
      "Epoch 64/100\n",
      "1000/1000 [==============================] - 0s 352us/step - loss: 1.0984e-07 - acc: 1.0000\n",
      "Epoch 65/100\n",
      "1000/1000 [==============================] - 0s 380us/step - loss: 1.0985e-07 - acc: 1.0000\n",
      "Epoch 66/100\n",
      "1000/1000 [==============================] - 0s 227us/step - loss: 1.0985e-07 - acc: 1.0000\n",
      "Epoch 67/100\n",
      "1000/1000 [==============================] - 0s 198us/step - loss: 1.0989e-07 - acc: 1.0000\n",
      "Epoch 68/100\n",
      "1000/1000 [==============================] - 0s 203us/step - loss: 1.0984e-07 - acc: 1.0000\n",
      "Epoch 69/100\n",
      "1000/1000 [==============================] - 0s 176us/step - loss: 1.0991e-07 - acc: 1.0000\n",
      "Epoch 70/100\n",
      "1000/1000 [==============================] - 0s 159us/step - loss: 1.0984e-07 - acc: 1.0000\n",
      "Epoch 71/100\n",
      "1000/1000 [==============================] - 0s 241us/step - loss: 1.0985e-07 - acc: 1.0000\n",
      "Epoch 72/100\n",
      "1000/1000 [==============================] - 0s 191us/step - loss: 1.0989e-07 - acc: 1.0000\n",
      "Epoch 73/100\n",
      "1000/1000 [==============================] - 0s 239us/step - loss: 1.0987e-07 - acc: 1.0000\n",
      "Epoch 74/100\n",
      "1000/1000 [==============================] - 0s 245us/step - loss: 1.0984e-07 - acc: 1.0000\n",
      "Epoch 75/100\n",
      "1000/1000 [==============================] - 0s 214us/step - loss: 1.0986e-07 - acc: 1.0000\n",
      "Epoch 76/100\n",
      "1000/1000 [==============================] - 0s 254us/step - loss: 1.0985e-07 - acc: 1.0000\n",
      "Epoch 77/100\n",
      "1000/1000 [==============================] - 0s 229us/step - loss: 1.0985e-07 - acc: 1.0000\n",
      "Epoch 78/100\n",
      "1000/1000 [==============================] - 0s 256us/step - loss: 1.0982e-07 - acc: 1.0000\n",
      "Epoch 79/100\n"
     ]
    },
    {
     "name": "stdout",
     "output_type": "stream",
     "text": [
      "1000/1000 [==============================] - 0s 236us/step - loss: 1.0994e-07 - acc: 1.0000\n",
      "Epoch 80/100\n",
      "1000/1000 [==============================] - 0s 196us/step - loss: 1.0985e-07 - acc: 1.0000\n",
      "Epoch 81/100\n",
      "1000/1000 [==============================] - 0s 222us/step - loss: 1.0995e-07 - acc: 1.0000\n",
      "Epoch 82/100\n",
      "1000/1000 [==============================] - 0s 196us/step - loss: 1.0994e-07 - acc: 1.0000\n",
      "Epoch 83/100\n",
      "1000/1000 [==============================] - 0s 499us/step - loss: 1.0984e-07 - acc: 1.0000\n",
      "Epoch 84/100\n",
      "1000/1000 [==============================] - 0s 180us/step - loss: 1.0982e-07 - acc: 1.0000\n",
      "Epoch 85/100\n",
      "1000/1000 [==============================] - 0s 198us/step - loss: 1.1010e-07 - acc: 1.0000\n",
      "Epoch 86/100\n",
      "1000/1000 [==============================] - 0s 305us/step - loss: 1.0996e-07 - acc: 1.0000\n",
      "Epoch 87/100\n",
      "1000/1000 [==============================] - 0s 317us/step - loss: 1.0988e-07 - acc: 1.0000\n",
      "Epoch 88/100\n",
      "1000/1000 [==============================] - 0s 474us/step - loss: 1.0989e-07 - acc: 1.0000\n",
      "Epoch 89/100\n",
      "1000/1000 [==============================] - 0s 375us/step - loss: 1.0982e-07 - acc: 1.0000\n",
      "Epoch 90/100\n",
      "1000/1000 [==============================] - 0s 375us/step - loss: 1.0995e-07 - acc: 1.0000\n",
      "Epoch 91/100\n",
      "1000/1000 [==============================] - 0s 304us/step - loss: 1.0980e-07 - acc: 1.0000\n",
      "Epoch 92/100\n",
      "1000/1000 [==============================] - 0s 282us/step - loss: 1.0986e-07 - acc: 1.0000\n",
      "Epoch 93/100\n",
      "1000/1000 [==============================] - 0s 401us/step - loss: 1.0989e-07 - acc: 1.0000\n",
      "Epoch 94/100\n",
      "1000/1000 [==============================] - 0s 384us/step - loss: 1.1027e-07 - acc: 1.0000\n",
      "Epoch 95/100\n",
      "1000/1000 [==============================] - 0s 320us/step - loss: 1.1011e-07 - acc: 1.0000\n",
      "Epoch 96/100\n",
      "1000/1000 [==============================] - 0s 198us/step - loss: 1.0982e-07 - acc: 1.0000\n",
      "Epoch 97/100\n",
      "1000/1000 [==============================] - 0s 327us/step - loss: 1.0982e-07 - acc: 1.0000\n",
      "Epoch 98/100\n",
      "1000/1000 [==============================] - 0s 412us/step - loss: 1.0988e-07 - acc: 1.0000\n",
      "Epoch 99/100\n",
      "1000/1000 [==============================] - 0s 189us/step - loss: 1.0989e-07 - acc: 1.0000\n",
      "Epoch 100/100\n",
      "1000/1000 [==============================] - 0s 401us/step - loss: 1.0982e-07 - acc: 1.0000\n"
     ]
    },
    {
     "data": {
      "text/plain": [
       "<keras.callbacks.History at 0x7f79b92ce940>"
      ]
     },
     "execution_count": 41,
     "metadata": {},
     "output_type": "execute_result"
    }
   ],
   "source": [
    "# Fitting our model\n",
    "classifier.fit(X, y, batch_size = 10, nb_epoch = 100)"
   ]
  },
  {
   "cell_type": "code",
   "execution_count": 42,
   "metadata": {},
   "outputs": [],
   "source": [
    "from sklearn.metrics import mean_absolute_error\n",
    "# Predicting the Test set results\n",
    "y_pred = classifier.predict(X)\n",
    "val_mae = mean_absolute_error(y_pred, y)"
   ]
  },
  {
   "cell_type": "code",
   "execution_count": 43,
   "metadata": {},
   "outputs": [],
   "source": [
    "test_y = classifier.predict(test)"
   ]
  },
  {
   "cell_type": "code",
   "execution_count": 44,
   "metadata": {},
   "outputs": [],
   "source": [
    "test_y = np.array(test_y, dtype=int)"
   ]
  },
  {
   "cell_type": "code",
   "execution_count": 45,
   "metadata": {},
   "outputs": [],
   "source": [
    "index_column = np.arange(1,9001)"
   ]
  },
  {
   "cell_type": "code",
   "execution_count": 50,
   "metadata": {},
   "outputs": [],
   "source": [
    "myDataFrame = pd.DataFrame(test_y,columns=['Solution'],dtype=int)"
   ]
  },
  {
   "cell_type": "code",
   "execution_count": 51,
   "metadata": {},
   "outputs": [],
   "source": [
    "myDataFrame['Id'] = index_column"
   ]
  },
  {
   "cell_type": "code",
   "execution_count": 52,
   "metadata": {},
   "outputs": [],
   "source": [
    "myDataFrame.index.name = 'Id'"
   ]
  },
  {
   "cell_type": "code",
   "execution_count": 53,
   "metadata": {},
   "outputs": [],
   "source": [
    "myDataFrame.to_csv(\"Day_048_HW.csv\", index=False)"
   ]
  },
  {
   "cell_type": "code",
   "execution_count": null,
   "metadata": {},
   "outputs": [],
   "source": []
  }
 ],
 "metadata": {
  "kernelspec": {
   "display_name": "Python 3",
   "language": "python",
   "name": "python3"
  },
  "language_info": {
   "codemirror_mode": {
    "name": "ipython",
    "version": 3
   },
   "file_extension": ".py",
   "mimetype": "text/x-python",
   "name": "python",
   "nbconvert_exporter": "python",
   "pygments_lexer": "ipython3",
   "version": "3.7.3"
  }
 },
 "nbformat": 4,
 "nbformat_minor": 2
}
